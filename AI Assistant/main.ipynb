{
 "cells": [
  {
   "cell_type": "code",
   "execution_count": 3,
   "metadata": {},
   "outputs": [],
   "source": [
    "import os\n",
    "import openai\n",
    "import pandas as pd\n",
    "from dotenv import load_dotenv\n",
    "\n",
    "load_dotenv()\n",
    "client = openai.OpenAI() "
   ]
  },
  {
   "cell_type": "code",
   "execution_count": 4,
   "metadata": {},
   "outputs": [
    {
     "data": {
      "text/html": [
       "<div>\n",
       "<style scoped>\n",
       "    .dataframe tbody tr th:only-of-type {\n",
       "        vertical-align: middle;\n",
       "    }\n",
       "\n",
       "    .dataframe tbody tr th {\n",
       "        vertical-align: top;\n",
       "    }\n",
       "\n",
       "    .dataframe thead th {\n",
       "        text-align: right;\n",
       "    }\n",
       "</style>\n",
       "<table border=\"1\" class=\"dataframe\">\n",
       "  <thead>\n",
       "    <tr style=\"text-align: right;\">\n",
       "      <th></th>\n",
       "      <th>filename</th>\n",
       "      <th>title</th>\n",
       "    </tr>\n",
       "  </thead>\n",
       "  <tbody>\n",
       "    <tr>\n",
       "      <th>0</th>\n",
       "      <td>papers/2405.10313v1.pdf</td>\n",
       "      <td>How Far Are We From AGI?</td>\n",
       "    </tr>\n",
       "    <tr>\n",
       "      <th>1</th>\n",
       "      <td>papers/2401.03428v1.pdf</td>\n",
       "      <td>EXPLORING LARGE LANGUAGE MODEL BASED INTELLIGE...</td>\n",
       "    </tr>\n",
       "    <tr>\n",
       "      <th>2</th>\n",
       "      <td>papers/2401.09395v2.pdf</td>\n",
       "      <td>CAUGHT IN THE QUICKSAND OF REASONING, FAR FROM...</td>\n",
       "    </tr>\n",
       "    <tr>\n",
       "      <th>3</th>\n",
       "      <td>papers/2401.13142v3.pdf</td>\n",
       "      <td>Unsocial Intelligence: an Investigation of the...</td>\n",
       "    </tr>\n",
       "    <tr>\n",
       "      <th>4</th>\n",
       "      <td>papers/2403.02164v2.pdf</td>\n",
       "      <td>Cognition is All You Need The Next Layer of AI...</td>\n",
       "    </tr>\n",
       "    <tr>\n",
       "      <th>5</th>\n",
       "      <td>papers/2403.12107v1.pdf</td>\n",
       "      <td>Scenarios for the Transition to AGI</td>\n",
       "    </tr>\n",
       "    <tr>\n",
       "      <th>6</th>\n",
       "      <td>papers/2404.10731v1.pdf</td>\n",
       "      <td>What is Meant by AGI? On the Definition of Art...</td>\n",
       "    </tr>\n",
       "    <tr>\n",
       "      <th>7</th>\n",
       "      <td>papers/2312.11562v5.pdf</td>\n",
       "      <td>A Survey of Reasoning with Foundation Models</td>\n",
       "    </tr>\n",
       "    <tr>\n",
       "      <th>8</th>\n",
       "      <td>papers/2311.02462v2.pdf</td>\n",
       "      <td>Levels of AGI: Operationalizing Progress on th...</td>\n",
       "    </tr>\n",
       "    <tr>\n",
       "      <th>9</th>\n",
       "      <td>papers/2310.15274v1.pdf</td>\n",
       "      <td>Systematic AI Approach for AGI: Addressing Ali...</td>\n",
       "    </tr>\n",
       "  </tbody>\n",
       "</table>\n",
       "</div>"
      ],
      "text/plain": [
       "                  filename                                              title\n",
       "0  papers/2405.10313v1.pdf                           How Far Are We From AGI?\n",
       "1  papers/2401.03428v1.pdf  EXPLORING LARGE LANGUAGE MODEL BASED INTELLIGE...\n",
       "2  papers/2401.09395v2.pdf  CAUGHT IN THE QUICKSAND OF REASONING, FAR FROM...\n",
       "3  papers/2401.13142v3.pdf  Unsocial Intelligence: an Investigation of the...\n",
       "4  papers/2403.02164v2.pdf  Cognition is All You Need The Next Layer of AI...\n",
       "5  papers/2403.12107v1.pdf                Scenarios for the Transition to AGI\n",
       "6  papers/2404.10731v1.pdf  What is Meant by AGI? On the Definition of Art...\n",
       "7  papers/2312.11562v5.pdf       A Survey of Reasoning with Foundation Models\n",
       "8  papers/2311.02462v2.pdf  Levels of AGI: Operationalizing Progress on th...\n",
       "9  papers/2310.15274v1.pdf  Systematic AI Approach for AGI: Addressing Ali..."
      ]
     },
     "execution_count": 4,
     "metadata": {},
     "output_type": "execute_result"
    }
   ],
   "source": [
    "# Run this\n",
    "papers = pd.DataFrame({\n",
    "    \"filename\": [\n",
    "        \"2405.10313v1.pdf\",\n",
    "        \"2401.03428v1.pdf\",\n",
    "        \"2401.09395v2.pdf\",\n",
    "        \"2401.13142v3.pdf\",\n",
    "        \"2403.02164v2.pdf\",\n",
    "        \"2403.12107v1.pdf\",\n",
    "        \"2404.10731v1.pdf\",\n",
    "        \"2312.11562v5.pdf\",\n",
    "        \"2311.02462v2.pdf\",\n",
    "        \"2310.15274v1.pdf\"\n",
    "    ],\n",
    "    \"title\": [\n",
    "        \"How Far Are We From AGI?\",\n",
    "        \"EXPLORING LARGE LANGUAGE MODEL BASED INTELLIGENT AGENTS: DEFINITIONS, METHODS, AND PROSPECTS\",\n",
    "        \"CAUGHT IN THE QUICKSAND OF REASONING, FAR FROM AGI SUMMIT: Evaluating LLMs’ Mathematical and Coding Competency through Ontology-guided Interventions\",\n",
    "        \"Unsocial Intelligence: an Investigation of the Assumptions of AGI Discourse\",\n",
    "        \"Cognition is All You Need The Next Layer of AI Above Large Language Models\",\n",
    "        \"Scenarios for the Transition to AGI\",\n",
    "        \"What is Meant by AGI? On the Definition of Artificial General Intelligence\",\n",
    "        \"A Survey of Reasoning with Foundation Models\",\n",
    "        \"Levels of AGI: Operationalizing Progress on the Path to AGI\",\n",
    "        \"Systematic AI Approach for AGI: Addressing Alignment, Energy, and AGI Grand Challenges\"\n",
    "    ]\n",
    "})\n",
    "papers[\"filename\"] = \"papers/\" + papers[\"filename\"]\n",
    "papers"
   ]
  },
  {
   "cell_type": "code",
   "execution_count": 5,
   "metadata": {},
   "outputs": [],
   "source": [
    "# Run this\n",
    "def upload_file_for_assistant(file_path): \n",
    "    uploaded_file = client.files.create(\n",
    "        file=open(file_path, \"rb\"),\n",
    "        purpose='assistants'\n",
    "    )\n",
    "    return uploaded_file.id"
   ]
  },
  {
   "cell_type": "code",
   "execution_count": 6,
   "metadata": {},
   "outputs": [
    {
     "data": {
      "text/plain": [
       "['file-6hSlm5MHpq8nD1gYo9PacwP4',\n",
       " 'file-zI8hplkFD5hGZ3Huzy97uqNL',\n",
       " 'file-BKKnw8CndLZO7VZR9ggyDsDx',\n",
       " 'file-PnLxYOBh035Ej6I5L45malEL',\n",
       " 'file-CzHQmM96N6GZLCyNdvkfRyF0',\n",
       " 'file-SkQ8OuSXsomTiMuETfBUglF9',\n",
       " 'file-lqX1E8OvmhTcVmzu0KB8r5X2',\n",
       " 'file-y9VXVZDtYG43JCANx9Ba0yWE',\n",
       " 'file-7aHeiUdAMDC45PTsT9T2bGhS',\n",
       " 'file-yZ6Zmsn3JSNy932D9GAktrB1']"
      ]
     },
     "execution_count": 6,
     "metadata": {},
     "output_type": "execute_result"
    }
   ],
   "source": [
    "# In papers, select the filename column, \n",
    "# then apply upload_file_for_assistant(),\n",
    "# then convert the result to a list. \n",
    "# Assign to uploaded_file_ids.\n",
    "uploaded_file_ids = papers[\"filename\"] \\\n",
    "    .apply(upload_file_for_assistant) \\\n",
    "    .to_list()\n",
    "\n",
    "# See the result\n",
    "uploaded_file_ids"
   ]
  },
  {
   "cell_type": "code",
   "execution_count": 7,
   "metadata": {},
   "outputs": [
    {
     "data": {
      "text/plain": [
       "VectorStore(id='vs_5tuBMYTkAIqs2jj6XJcWrlH4', created_at=1732048653, file_counts=FileCounts(cancelled=0, completed=0, failed=0, in_progress=10, total=10), last_active_at=1732048653, metadata={}, name='arxiv_agi_papers', object='vector_store', status='in_progress', usage_bytes=0, expires_after=None, expires_at=None)"
      ]
     },
     "execution_count": 7,
     "metadata": {},
     "output_type": "execute_result"
    }
   ],
   "source": [
    "# Create a vector store, associating the uploaded file IDs and naming it.\n",
    "vstore = client.beta.vector_stores.create(\n",
    "    file_ids = uploaded_file_ids,\n",
    "    name = \"arxiv_agi_papers\"\n",
    ")\n",
    "\n",
    "# See the result\n",
    "vstore"
   ]
  },
  {
   "cell_type": "code",
   "execution_count": 26,
   "metadata": {},
   "outputs": [],
   "source": [
    "# Run this\n",
    "assistant_prompt = \"\"\"\n",
    "You are Aggie, a knowledgeable and articulate AI assistant specializing in artificial general intelligence (AGI). Your primary role is to read and explain the contents of academic journal articles, particularly those available on arXiv in PDF form. Your target audience comprises data scientists who are familiar with AI concepts but may not be experts in AGI.\n",
    "\n",
    "When explaining the contents of the papers, follow these guidelines:\n",
    "\n",
    "Introduction: Start with a brief overview of the paper's title, authors, and the main objective or research question addressed.\n",
    "\n",
    "Abstract Summary: Provide a concise summary of the abstract, highlighting the key points and findings.\n",
    "\n",
    "Key Sections and Findings: Break down the paper into its main sections (e.g., Introduction, Methods, Results, Discussion). For each section, provide a summary that includes:\n",
    "\n",
    "The main points and arguments presented.\n",
    "Any important methods or techniques used.\n",
    "Key results and findings.\n",
    "The significance and implications of these findings.\n",
    "Conclusion: Summarize the conclusions drawn by the authors, including any limitations they mention and future research directions suggested.\n",
    "\n",
    "Critical Analysis: Offer a critical analysis of the paper, discussing its strengths and weaknesses. Highlight any innovative approaches or significant contributions to the field of AGI.\n",
    "\n",
    "Contextual Understanding: Place the paper in the context of the broader field of AGI research. Mention how it relates to other work in the area and its potential impact on future research and applications.\n",
    "\n",
    "Practical Takeaways: Provide practical takeaways or insights that data scientists can apply in their work. This could include novel methodologies, interesting datasets, or potential areas for collaboration or further study.\n",
    "\n",
    "Q&A Readiness: Be prepared to answer any follow-up questions that data scientists might have about the paper, providing clear and concise explanations.\n",
    "\n",
    "Ensure that your explanations are clear, concise, and accessible, avoiding unnecessary jargon. Your goal is to make complex AGI research comprehensible and relevant to data scientists, facilitating their understanding and engagement with the latest advancements in the field.\n",
    "\n",
    "Limit response length to 30000 TPM.\n",
    "\"\"\""
   ]
  },
  {
   "cell_type": "code",
   "execution_count": 27,
   "metadata": {},
   "outputs": [
    {
     "data": {
      "text/plain": [
       "Assistant(id='asst_J6qHlU2VWY9hmE60xrvCrLqG', created_at=1732049774, description=None, instructions=\"\\nYou are Aggie, a knowledgeable and articulate AI assistant specializing in artificial general intelligence (AGI). Your primary role is to read and explain the contents of academic journal articles, particularly those available on arXiv in PDF form. Your target audience comprises data scientists who are familiar with AI concepts but may not be experts in AGI.\\n\\nWhen explaining the contents of the papers, follow these guidelines:\\n\\nIntroduction: Start with a brief overview of the paper's title, authors, and the main objective or research question addressed.\\n\\nAbstract Summary: Provide a concise summary of the abstract, highlighting the key points and findings.\\n\\nKey Sections and Findings: Break down the paper into its main sections (e.g., Introduction, Methods, Results, Discussion). For each section, provide a summary that includes:\\n\\nThe main points and arguments presented.\\nAny important methods or techniques used.\\nKey results and findings.\\nThe significance and implications of these findings.\\nConclusion: Summarize the conclusions drawn by the authors, including any limitations they mention and future research directions suggested.\\n\\nCritical Analysis: Offer a critical analysis of the paper, discussing its strengths and weaknesses. Highlight any innovative approaches or significant contributions to the field of AGI.\\n\\nContextual Understanding: Place the paper in the context of the broader field of AGI research. Mention how it relates to other work in the area and its potential impact on future research and applications.\\n\\nPractical Takeaways: Provide practical takeaways or insights that data scientists can apply in their work. This could include novel methodologies, interesting datasets, or potential areas for collaboration or further study.\\n\\nQ&A Readiness: Be prepared to answer any follow-up questions that data scientists might have about the paper, providing clear and concise explanations.\\n\\nEnsure that your explanations are clear, concise, and accessible, avoiding unnecessary jargon. Your goal is to make complex AGI research comprehensible and relevant to data scientists, facilitating their understanding and engagement with the latest advancements in the field.\\n\\nLimit response length to 30000 TPM.\\n\", metadata={}, model='gpt-4o-mini', name='Aggie', object='assistant', tools=[FileSearchTool(type='file_search', file_search=FileSearch(max_num_results=None, ranking_options=FileSearchRankingOptions(score_threshold=0.0, ranker='default_2024_08_21')))], response_format='auto', temperature=1.0, tool_resources=ToolResources(code_interpreter=None, file_search=ToolResourcesFileSearch(vector_store_ids=['vs_5tuBMYTkAIqs2jj6XJcWrlH4'])), top_p=1.0)"
      ]
     },
     "execution_count": 27,
     "metadata": {},
     "output_type": "execute_result"
    }
   ],
   "source": [
    "# Define the assistant. Assign to aggie.\n",
    "aggie = client.beta.assistants.create(\n",
    "\tname = \"Aggie\",\n",
    "\tinstructions = assistant_prompt,\n",
    "\tmodel=\"gpt-4o-mini\",\n",
    "\ttools=[{\"type\": \"file_search\"}],\n",
    "    tool_resources={\"file_search\": {\"vector_store_ids\": [vstore.id]}}\n",
    ")\n",
    "    \n",
    "# See the result\n",
    "aggie"
   ]
  },
  {
   "cell_type": "code",
   "execution_count": 28,
   "metadata": {},
   "outputs": [
    {
     "data": {
      "text/plain": [
       "Thread(id='thread_fP2UaitWnoWff9furPnzVmnZ', created_at=1732049776, metadata={}, object='thread', tool_resources=ToolResources(code_interpreter=None, file_search=None))"
      ]
     },
     "execution_count": 28,
     "metadata": {},
     "output_type": "execute_result"
    }
   ],
   "source": [
    "# Create a thread object. Assign to conversation.\n",
    "conversation = client.beta.threads.create()\n",
    "\n",
    "# See the result\n",
    "conversation"
   ]
  },
  {
   "cell_type": "code",
   "execution_count": 29,
   "metadata": {},
   "outputs": [
    {
     "data": {
      "text/plain": [
       "Message(id='msg_6w9KnVA0u8eDDXFMj2pJjejY', assistant_id=None, attachments=[], completed_at=None, content=[TextContentBlock(text=Text(annotations=[], value='What are the most common definitions of AGI?'), type='text')], created_at=1732049778, incomplete_at=None, incomplete_details=None, metadata={}, object='thread.message', role='user', run_id=None, status=None, thread_id='thread_fP2UaitWnoWff9furPnzVmnZ')"
      ]
     },
     "execution_count": 29,
     "metadata": {},
     "output_type": "execute_result"
    }
   ],
   "source": [
    "# Add a user message to the conversation. Assign to msg_what_is_agi.\n",
    "msg_what_is_agi = client.beta.threads.messages.create(\n",
    "    thread_id=conversation.id,\n",
    "    role=\"user\",\n",
    "    content=\"What are the most common definitions of AGI?\"\n",
    ")\n",
    "\n",
    "# See the result\n",
    "msg_what_is_agi"
   ]
  },
  {
   "cell_type": "code",
   "execution_count": 31,
   "metadata": {},
   "outputs": [],
   "source": [
    "# Run this\n",
    "from typing_extensions import override\n",
    "from openai import AssistantEventHandler\n",
    " \n",
    "# First, we create a EventHandler class to define\n",
    "# how we want to handle the events in the response stream.\n",
    " \n",
    "class EventHandler(AssistantEventHandler):    \n",
    "  @override\n",
    "  def on_text_created(self, text) -> None:\n",
    "    print(f\"\\nassistant > \", end=\"\", flush=True)\n",
    "      \n",
    "  @override\n",
    "  def on_text_delta(self, delta, snapshot):\n",
    "    print(delta.value, end=\"\", flush=True)\n",
    "      \n",
    "  def on_tool_call_created(self, tool_call):\n",
    "    print(f\"\\nassistant > {tool_call.type}\\n\", flush=True)\n",
    "  \n",
    "  def on_tool_call_delta(self, delta, snapshot):\n",
    "    if delta.type == 'code_interpreter':\n",
    "      if delta.code_interpreter.input:\n",
    "        print(delta.code_interpreter.input, end=\"\", flush=True)\n",
    "      if delta.code_interpreter.outputs:\n",
    "        print(f\"\\n\\noutput >\", flush=True)\n",
    "        for output in delta.code_interpreter.outputs:\n",
    "          if output.type == \"logs\":\n",
    "            print(f\"\\n{output.logs}\", flush=True)\n"
   ]
  },
  {
   "cell_type": "code",
   "execution_count": 32,
   "metadata": {},
   "outputs": [],
   "source": [
    "# Run this\n",
    "def run_aggie():\n",
    "    with client.beta.threads.runs.stream(\n",
    "        thread_id=conversation.id,\n",
    "        assistant_id=aggie.id,\n",
    "        event_handler=EventHandler(),\n",
    "    ) as stream:\n",
    "        stream.until_done()"
   ]
  },
  {
   "cell_type": "code",
   "execution_count": 33,
   "metadata": {},
   "outputs": [
    {
     "name": "stdout",
     "output_type": "stream",
     "text": [
      "\n",
      "assistant > file_search\n",
      "\n",
      "\n",
      "assistant > The term \"Artificial General Intelligence\" (AGI) encompasses several interpretations and definitions within the AI research community. Here are some of the most common definitions discussed in recent literature:\n",
      "\n",
      "1. **Human-Level Performance**: Legg and Goertzel defined AGI as a machine capable of performing cognitive tasks that humans typically handle. This definition emphasizes a wide range of cognitive functions but leaves ambiguity regarding the specifics of tasks and the heterogeneity of human intelligence【4:0†source】【4:4†source】.\n",
      "\n",
      "2. **Broad Learning Abilities**: Shanahan proposed that AGI should be AI that is not restricted to specific tasks but can learn diverse tasks similarly to humans. This definition highlights the importance of metacognitive abilities, like learning and adapting to new situations【4:0†source】【4:4†source】.\n",
      "\n",
      "3. **Economic Value**: OpenAI defines AGI as \"highly autonomous systems that outperform humans at most economically valuable work.\" While this definition addresses the capability aspect, it restricts the understanding of intelligence by focusing solely on economic measures, excluding other valuable dimensions like creativity and emotional intelligence【4:0†source】【4:1†source】.\n",
      "\n",
      "4. **Flexibility and Generality**: According to Marcus, AGI represents any intelligence that exhibits flexibility and generality, showing resourcefulness and reliability comparable to or exceeding human intelligence. This definition incorporates metacognitive tasks as essential for achieving sufficient generality【4:1†source】.\n",
      "\n",
      "5. **Adaptation in Open Environments**: A more abstract definition considers AGI as a system capable of adapting to open environments using limited resources. This definition suggests AGI should handle problems that are not predetermined, focusing on principles of adaptability rather than merely the breadth of tasks【4:5†source】【4:6†source】.\n",
      "\n",
      "6. **Artificial Capable Intelligence (ACI)**: Introduced by Suleyman, ACI emphasizes performing complex, multi-step tasks in real-world scenarios. It suggests a framework based around economically viable tasks but acknowledges limitations regarding alignment and broader intelligence considerations【4:4†source】.\n",
      "\n",
      "7. **Consensus on the Definition**: Some efforts are being made to establish a consensus on a definition that emphasizes adaptability, metacognitive skills, and the capability of addressing non-specific problems, rather than focusing solely on human-like processes or economic criteria【4:3†source】【4:4†source】.\n",
      "\n",
      "These varying definitions illustrate that AGI is a complex and nuanced concept with implications for how we understand intelligence in machines. The common thread is an emphasis on generality and adaptability, with different stakeholders prioritizing economic viability, cognitive capabilities, or metacognitive learning differently. As research progresses, future discussions will likely refine these definitions and possibly unify the multiple perspectives into a more coherent understanding of AGI."
     ]
    }
   ],
   "source": [
    "# Run the assistant\n",
    "run_aggie()"
   ]
  },
  {
   "cell_type": "code",
   "execution_count": 34,
   "metadata": {},
   "outputs": [
    {
     "data": {
      "text/plain": [
       "Message(id='msg_d3OIxUlWALNNAf1cPHRO8eyv', assistant_id=None, attachments=[], completed_at=None, content=[TextContentBlock(text=Text(annotations=[], value='How close are we to developing AGI?'), type='text')], created_at=1732049801, incomplete_at=None, incomplete_details=None, metadata={}, object='thread.message', role='user', run_id=None, status=None, thread_id='thread_fP2UaitWnoWff9furPnzVmnZ')"
      ]
     },
     "execution_count": 34,
     "metadata": {},
     "output_type": "execute_result"
    }
   ],
   "source": [
    "# Create another user message, adding it to the conversation. Assign to msg_how_close_is_agi.\n",
    "msg_how_close_is_agi = client.beta.threads.messages.create(\n",
    "    thread_id=conversation.id,\n",
    "    role=\"user\",\n",
    "    content=\"How close are we to developing AGI?\"\n",
    ")\n",
    "\n",
    "# See the result\n",
    "msg_how_close_is_agi"
   ]
  },
  {
   "cell_type": "code",
   "execution_count": 35,
   "metadata": {},
   "outputs": [
    {
     "name": "stdout",
     "output_type": "stream",
     "text": [
      "\n",
      "assistant > file_search\n",
      "\n",
      "\n",
      "assistant > Determining how close we are to achieving Artificial General Intelligence (AGI) is a complex and debated topic among researchers. Recent discussions and surveys provide insights into the prevailing perspectives within the AI community:\n",
      "\n",
      "### Current Sentiments on AGI Development Timelines\n",
      "1. **Diverse Opinions**: A workshop titled \"How Far Are We From AGI,\" held in early 2024, gathered responses from 138 researchers about their views on AGI timelines. The results revealed a substantial range of opinions:\n",
      "   - **1-2 years**: 3.6% of respondents believe AGI will be achieved this soon.\n",
      "   - **2-5 years**: 13.0%.\n",
      "   - **5-10 years**: 22.5%.\n",
      "   - **10-20 years**: 23.9%.\n",
      "   - **20+ years**: A significant 37.0% foresee a more extended timeline【8:0†source】【8:1†source】.\n",
      "\n",
      "2. **Factors Influencing Opinions**: The differences in timelines suggest that researchers are considering varying bottlenecks and progress indicators. Those optimistically predicting near-term AGI might assert that the current systems are nearly sufficient, needing only incremental enhancements. Conversely, those anticipating longer timelines may express skepticism regarding current AI approaches or the necessity of fundamental breakthroughs【8:1†source】【8:17†source】.\n",
      "\n",
      "### Key Challenges in Reaching AGI\n",
      "1. **Complexity and Ambiguity of Intelligence**: The nature of intelligence itself is complex, and there are significant gaps in understanding how to replicate the multifaceted cognition found in humans. For instance, systems today excel at specific tasks but lack generalization, common sense, and the intuitive reasoning that typically characterizes human thought【8:6†source】.\n",
      "\n",
      "2. **Diminishing Returns in Scaling**: Although the models are expanding, there is a growing concern that simply scaling up current architectures will not yield the necessary general intelligence capabilities. Key skills such as creativity, real-world intuition, and ethical reasoning may require more advanced mechanisms than just increased data or model size【8:5†source】【8:13†source】.\n",
      "\n",
      "3. **Ethical and Safety Concerns**: The big leap towards AGI involves ensuring that these systems are safe and aligned with human values. There is a significant focus on developing frameworks that manage the ethical implications and avoid unintended consequences【8:17†source}. Researchers stress the importance of international cooperation and proactive measures to ensure responsible AGI development.\n",
      "\n",
      "### Conclusion and Future Directions\n",
      "The pathway to AGI remains uncertain, marked by varying opinions on timelines and persistent challenges. While there is optimism regarding advancements in AI, it is essential for the research community to engage in reflective dialogue about progression towards AGI, establishing shared definitions, and addressing both the technical and ethical implications【8:10†source】【8:11†source】.\n",
      "\n",
      "### Practical Takeaways\n",
      "- Keep abreast of ongoing AI developments and shifts in research approaches.\n",
      "- Consider the ethical implications of AI systems being integrated into daily life and industry.\n",
      "- Engage in discussions around AI safety and alignment to contribute to responsible AGI dialogue.\n",
      "\n",
      "By understanding the current landscape of AGI research, data scientists can better navigate the complexities of this evolving field and prepare for its potential impacts on technology and society."
     ]
    }
   ],
   "source": [
    "# Run the assistant\n",
    "run_aggie()"
   ]
  }
 ],
 "metadata": {
  "kernelspec": {
   "display_name": "Python 3",
   "language": "python",
   "name": "python3"
  },
  "language_info": {
   "codemirror_mode": {
    "name": "ipython",
    "version": 3
   },
   "file_extension": ".py",
   "mimetype": "text/x-python",
   "name": "python",
   "nbconvert_exporter": "python",
   "pygments_lexer": "ipython3",
   "version": "3.10.2"
  }
 },
 "nbformat": 4,
 "nbformat_minor": 2
}
